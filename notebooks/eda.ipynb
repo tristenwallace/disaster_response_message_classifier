{
 "cells": [
  {
   "cell_type": "markdown",
   "metadata": {},
   "source": [
    "## Load Data"
   ]
  },
  {
   "cell_type": "code",
   "execution_count": 22,
   "metadata": {},
   "outputs": [],
   "source": [
    "# Import packages\n",
    "import numpy as np\n",
    "import pandas as pd\n",
    "from matplotlib import pyplot as plt\n",
    "%matplotlib inline\n",
    "import seaborn as sns\n",
    "import warnings\n",
    "warnings.simplefilter(action='ignore')\n",
    "\n",
    "pd.set_option('display.max_rows', 30)\n",
    "pd.set_option('display.max_columns', 100)"
   ]
  },
  {
   "cell_type": "code",
   "execution_count": 23,
   "metadata": {},
   "outputs": [
    {
     "data": {
      "text/html": [
       "<div>\n",
       "<style scoped>\n",
       "    .dataframe tbody tr th:only-of-type {\n",
       "        vertical-align: middle;\n",
       "    }\n",
       "\n",
       "    .dataframe tbody tr th {\n",
       "        vertical-align: top;\n",
       "    }\n",
       "\n",
       "    .dataframe thead th {\n",
       "        text-align: right;\n",
       "    }\n",
       "</style>\n",
       "<table border=\"1\" class=\"dataframe\">\n",
       "  <thead>\n",
       "    <tr style=\"text-align: right;\">\n",
       "      <th></th>\n",
       "      <th>id</th>\n",
       "      <th>categories</th>\n",
       "    </tr>\n",
       "  </thead>\n",
       "  <tbody>\n",
       "    <tr>\n",
       "      <th>0</th>\n",
       "      <td>2</td>\n",
       "      <td>related-1;request-0;offer-0;aid_related-0;medi...</td>\n",
       "    </tr>\n",
       "    <tr>\n",
       "      <th>1</th>\n",
       "      <td>7</td>\n",
       "      <td>related-1;request-0;offer-0;aid_related-1;medi...</td>\n",
       "    </tr>\n",
       "    <tr>\n",
       "      <th>2</th>\n",
       "      <td>8</td>\n",
       "      <td>related-1;request-0;offer-0;aid_related-0;medi...</td>\n",
       "    </tr>\n",
       "  </tbody>\n",
       "</table>\n",
       "</div>"
      ],
      "text/plain": [
       "   id                                         categories\n",
       "0   2  related-1;request-0;offer-0;aid_related-0;medi...\n",
       "1   7  related-1;request-0;offer-0;aid_related-1;medi...\n",
       "2   8  related-1;request-0;offer-0;aid_related-0;medi..."
      ]
     },
     "metadata": {},
     "output_type": "display_data"
    },
    {
     "name": "stdout",
     "output_type": "stream",
     "text": [
      "(26248, 2)\n"
     ]
    },
    {
     "data": {
      "text/plain": [
       "id            0\n",
       "categories    0\n",
       "dtype: int64"
      ]
     },
     "metadata": {},
     "output_type": "display_data"
    },
    {
     "data": {
      "text/html": [
       "<div>\n",
       "<style scoped>\n",
       "    .dataframe tbody tr th:only-of-type {\n",
       "        vertical-align: middle;\n",
       "    }\n",
       "\n",
       "    .dataframe tbody tr th {\n",
       "        vertical-align: top;\n",
       "    }\n",
       "\n",
       "    .dataframe thead th {\n",
       "        text-align: right;\n",
       "    }\n",
       "</style>\n",
       "<table border=\"1\" class=\"dataframe\">\n",
       "  <thead>\n",
       "    <tr style=\"text-align: right;\">\n",
       "      <th></th>\n",
       "      <th>id</th>\n",
       "      <th>message</th>\n",
       "      <th>original</th>\n",
       "      <th>genre</th>\n",
       "    </tr>\n",
       "  </thead>\n",
       "  <tbody>\n",
       "    <tr>\n",
       "      <th>0</th>\n",
       "      <td>2</td>\n",
       "      <td>Weather update - a cold front from Cuba that c...</td>\n",
       "      <td>Un front froid se retrouve sur Cuba ce matin. ...</td>\n",
       "      <td>direct</td>\n",
       "    </tr>\n",
       "    <tr>\n",
       "      <th>1</th>\n",
       "      <td>7</td>\n",
       "      <td>Is the Hurricane over or is it not over</td>\n",
       "      <td>Cyclone nan fini osinon li pa fini</td>\n",
       "      <td>direct</td>\n",
       "    </tr>\n",
       "    <tr>\n",
       "      <th>2</th>\n",
       "      <td>8</td>\n",
       "      <td>Looking for someone but no name</td>\n",
       "      <td>Patnm, di Maryani relem pou li banm nouvel li ...</td>\n",
       "      <td>direct</td>\n",
       "    </tr>\n",
       "  </tbody>\n",
       "</table>\n",
       "</div>"
      ],
      "text/plain": [
       "   id                                            message  \\\n",
       "0   2  Weather update - a cold front from Cuba that c...   \n",
       "1   7            Is the Hurricane over or is it not over   \n",
       "2   8                    Looking for someone but no name   \n",
       "\n",
       "                                            original   genre  \n",
       "0  Un front froid se retrouve sur Cuba ce matin. ...  direct  \n",
       "1                 Cyclone nan fini osinon li pa fini  direct  \n",
       "2  Patnm, di Maryani relem pou li banm nouvel li ...  direct  "
      ]
     },
     "metadata": {},
     "output_type": "display_data"
    },
    {
     "name": "stdout",
     "output_type": "stream",
     "text": [
      "(26248, 4)\n"
     ]
    },
    {
     "data": {
      "text/plain": [
       "id              0\n",
       "message         0\n",
       "original    16064\n",
       "genre           0\n",
       "dtype: int64"
      ]
     },
     "metadata": {},
     "output_type": "display_data"
    }
   ],
   "source": [
    "# Load data\n",
    "catagories_df = pd.read_csv(\"../data/disaster_categories.csv\")\n",
    "messages_df = pd.read_csv(\"../data/disaster_messages.csv\")\n",
    "\n",
    "\n",
    "for data in [catagories_df,messages_df]:\n",
    "    display(data.head(3))\n",
    "    print(data.shape)\n",
    "    display(data.isna().sum())"
   ]
  },
  {
   "cell_type": "markdown",
   "metadata": {},
   "source": [
    "## Prep Data"
   ]
  },
  {
   "cell_type": "code",
   "execution_count": 24,
   "metadata": {},
   "outputs": [
    {
     "data": {
      "text/html": [
       "<div>\n",
       "<style scoped>\n",
       "    .dataframe tbody tr th:only-of-type {\n",
       "        vertical-align: middle;\n",
       "    }\n",
       "\n",
       "    .dataframe tbody tr th {\n",
       "        vertical-align: top;\n",
       "    }\n",
       "\n",
       "    .dataframe thead th {\n",
       "        text-align: right;\n",
       "    }\n",
       "</style>\n",
       "<table border=\"1\" class=\"dataframe\">\n",
       "  <thead>\n",
       "    <tr style=\"text-align: right;\">\n",
       "      <th></th>\n",
       "      <th>id</th>\n",
       "      <th>message</th>\n",
       "      <th>genre</th>\n",
       "      <th>categories</th>\n",
       "    </tr>\n",
       "  </thead>\n",
       "  <tbody>\n",
       "    <tr>\n",
       "      <th>0</th>\n",
       "      <td>2</td>\n",
       "      <td>Weather update - a cold front from Cuba that c...</td>\n",
       "      <td>direct</td>\n",
       "      <td>related-1;request-0;offer-0;aid_related-0;medi...</td>\n",
       "    </tr>\n",
       "    <tr>\n",
       "      <th>1</th>\n",
       "      <td>7</td>\n",
       "      <td>Is the Hurricane over or is it not over</td>\n",
       "      <td>direct</td>\n",
       "      <td>related-1;request-0;offer-0;aid_related-1;medi...</td>\n",
       "    </tr>\n",
       "    <tr>\n",
       "      <th>2</th>\n",
       "      <td>8</td>\n",
       "      <td>Looking for someone but no name</td>\n",
       "      <td>direct</td>\n",
       "      <td>related-1;request-0;offer-0;aid_related-0;medi...</td>\n",
       "    </tr>\n",
       "  </tbody>\n",
       "</table>\n",
       "</div>"
      ],
      "text/plain": [
       "   id                                            message   genre  \\\n",
       "0   2  Weather update - a cold front from Cuba that c...  direct   \n",
       "1   7            Is the Hurricane over or is it not over  direct   \n",
       "2   8                    Looking for someone but no name  direct   \n",
       "\n",
       "                                          categories  \n",
       "0  related-1;request-0;offer-0;aid_related-0;medi...  \n",
       "1  related-1;request-0;offer-0;aid_related-1;medi...  \n",
       "2  related-1;request-0;offer-0;aid_related-0;medi...  "
      ]
     },
     "metadata": {},
     "output_type": "display_data"
    },
    {
     "name": "stdout",
     "output_type": "stream",
     "text": [
      "(26386, 4)\n"
     ]
    },
    {
     "data": {
      "text/plain": [
       "id            0\n",
       "message       0\n",
       "genre         0\n",
       "categories    0\n",
       "dtype: int64"
      ]
     },
     "metadata": {},
     "output_type": "display_data"
    },
    {
     "data": {
      "text/plain": [
       "'Duplicates: 0'"
      ]
     },
     "metadata": {},
     "output_type": "display_data"
    },
    {
     "name": "stdout",
     "output_type": "stream",
     "text": [
      "(26216, 4)\n"
     ]
    }
   ],
   "source": [
    "# Merge datasets\n",
    "df = messages_df.drop('original', axis=1).merge(catagories_df, on='id')\n",
    "display(df.head(3))\n",
    "print(df.shape)\n",
    "display(df.isna().sum())\n",
    "\n",
    "# Look for duplicates\n",
    "df[df.duplicated()]\n",
    "\n",
    "#drop duplicates\n",
    "df.drop_duplicates(inplace=True)\n",
    "display(\"Duplicates: {}\".format(df.duplicated().sum()))\n",
    "print(df.shape)"
   ]
  },
  {
   "cell_type": "code",
   "execution_count": 25,
   "metadata": {},
   "outputs": [],
   "source": [
    "### Split catagories\n",
    "\n",
    "def split_catagories(row):\n",
    "    cat_count_dict = {}\n",
    "    cat_list = row.split(';')\n",
    "    for cat_val in cat_list:\n",
    "        cat, val = cat_val.split('-')\n",
    "        cat_count_dict[cat] = val\n",
    "    return cat_count_dict\n",
    "\n",
    "df = df.drop('id', axis=1).reset_index()\n",
    "\n",
    "categories = pd.DataFrame(list(df['categories'][:].apply(split_catagories))).reset_index()\n",
    "df = df.merge(categories, on='index')\n",
    "df.drop(['categories', 'index'], axis=1, inplace=True)\n",
    "\n",
    "for col in df.columns.tolist():\n",
    "    if col not in ['message', 'genre']:\n",
    "        df[col] = df[col].astype('int')"
   ]
  },
  {
   "cell_type": "markdown",
   "metadata": {},
   "source": [
    "## Explore Data"
   ]
  },
  {
   "cell_type": "code",
   "execution_count": 26,
   "metadata": {},
   "outputs": [],
   "source": [
    "# Tidy up categories\n",
    "long_df = df.melt(id_vars=['message', 'genre'], var_name='Category')"
   ]
  },
  {
   "cell_type": "code",
   "execution_count": 27,
   "metadata": {},
   "outputs": [
    {
     "data": {
      "image/png": "[encoded data removed]",
      "text/plain": [
       "<Figure size 640x480 with 1 Axes>"
      ]
     },
     "metadata": {},
     "output_type": "display_data"
    }
   ],
   "source": [
    "# Plot top 50% of categories\n",
    "cat_counts = long_df.groupby('Category')['value'].sum().sort_values()[19:].plot.barh()"
   ]
  },
  {
   "cell_type": "code",
   "execution_count": 28,
   "metadata": {},
   "outputs": [
    {
     "data": {
      "image/png": "[encoded data removed]",
      "text/plain": [
       "<Figure size 640x480 with 1 Axes>"
      ]
     },
     "metadata": {},
     "output_type": "display_data"
    }
   ],
   "source": [
    "# Plot bottom 50% of categories\n",
    "cat_counts = long_df.groupby('Category')['value'].sum().sort_values()[:19].plot.barh()"
   ]
  },
  {
   "cell_type": "markdown",
   "metadata": {},
   "source": [
    "## Models"
   ]
  },
  {
   "cell_type": "code",
   "execution_count": 29,
   "metadata": {},
   "outputs": [],
   "source": [
    "#Remove child alone as it has all zeros only\n",
    "df.drop(['genre', 'child_alone'], axis=1, inplace=True)"
   ]
  },
  {
   "cell_type": "code",
   "execution_count": 45,
   "metadata": {},
   "outputs": [],
   "source": [
    "# ML Packages\n",
    "from nltk.tokenize import wordpunct_tokenize\n",
    "from nltk.stem.wordnet import WordNetLemmatizer \n",
    "from nltk.stem.porter import PorterStemmer\n",
    "from sklearn.feature_extraction.text import CountVectorizer, TfidfTransformer\n",
    "from sklearn.pipeline import Pipeline\n",
    "from sklearn.model_selection import train_test_split\n",
    "from sklearn.multioutput import MultiOutputClassifier\n",
    "from sklearn.neighbors import KNeighborsClassifier\n",
    "from sklearn.metrics import classification_report\n",
    "import re"
   ]
  },
  {
   "cell_type": "code",
   "execution_count": 49,
   "metadata": {},
   "outputs": [
    {
     "name": "stdout",
     "output_type": "stream",
     "text": [
      "['weather', 'updat', '-', 'a', 'cold', 'front', 'from', 'cuba', 'that', 'could', 'pass', 'over', 'haiti']\n"
     ]
    }
   ],
   "source": [
    "### Text processing\n",
    "def tokenize(text):\n",
    "    # Replace all urls with a urlplaceholder string\n",
    "    url_regex = 'http[s]?://(?:[a-zA-Z]|[0-9]|[$-_@.&+]|[!*\\(\\),]|(?:%[0-9a-fA-F][0-9a-fA-F]))+'\n",
    "    \n",
    "    # Extract all the urls from the provided text \n",
    "    detected_urls = re.findall(url_regex, text)\n",
    "    \n",
    "    # Replace url with a url placeholder string\n",
    "    for detected_url in detected_urls:\n",
    "        text = text.replace(detected_url, url_place_holder_string)\n",
    "    \n",
    "    words = wordpunct_tokenize(text)\n",
    "    ##TODO: Lemmatization w/ POS could improve performance ##\n",
    "    stems =  [PorterStemmer().stem(w) for w in words]\n",
    "\n",
    "    return stems\n",
    "\n",
    "print(tokenize(df.message[0]))"
   ]
  },
  {
   "cell_type": "code",
   "execution_count": 32,
   "metadata": {},
   "outputs": [],
   "source": [
    "# ML Pipeline\n",
    "pipeline = Pipeline([\n",
    "        ('vect', CountVectorizer(tokenizer=tokenize)),\n",
    "        ('tfidf', TfidfTransformer()),\n",
    "        ('clf', MultiOutputClassifier(KNeighborsClassifier()))\n",
    "    ])"
   ]
  },
  {
   "cell_type": "code",
   "execution_count": 84,
   "metadata": {},
   "outputs": [
    {
     "name": "stdout",
     "output_type": "stream",
     "text": [
      "                        precision    recall  f1-score   support\n",
      "\n",
      "               related       0.83      0.90      0.86        21\n",
      "               request       0.73      0.85      0.79        13\n",
      "                 offer       0.00      0.00      0.00         0\n",
      "           aid_related       0.76      0.87      0.81        15\n",
      "          medical_help       0.00      0.00      0.00         3\n",
      "      medical_products       0.00      0.00      0.00         5\n",
      "     search_and_rescue       0.00      0.00      0.00         0\n",
      "              security       0.00      0.00      0.00         0\n",
      "              military       0.00      0.00      0.00         1\n",
      "                 water       0.57      0.67      0.62         6\n",
      "                  food       1.00      0.18      0.31        11\n",
      "               shelter       0.00      0.00      0.00         2\n",
      "              clothing       0.00      0.00      0.00         1\n",
      "                 money       0.00      0.00      0.00         0\n",
      "        missing_people       0.00      0.00      0.00         0\n",
      "              refugees       0.00      0.00      0.00         0\n",
      "                 death       0.00      0.00      0.00         1\n",
      "             other_aid       0.25      0.25      0.25         4\n",
      "infrastructure_related       0.00      0.00      0.00         3\n",
      "             transport       0.00      0.00      0.00         1\n",
      "             buildings       0.00      0.00      0.00         0\n",
      "           electricity       0.00      0.00      0.00         0\n",
      "                 tools       0.00      0.00      0.00         1\n",
      "             hospitals       0.00      0.00      0.00         0\n",
      "                 shops       0.00      0.00      0.00         0\n",
      "           aid_centers       0.00      0.00      0.00         1\n",
      "  other_infrastructure       0.00      0.00      0.00         2\n",
      "       weather_related       0.00      0.00      0.00         3\n",
      "                floods       0.00      0.00      0.00         1\n",
      "                 storm       0.00      0.00      0.00         1\n",
      "                  fire       0.00      0.00      0.00         0\n",
      "            earthquake       0.00      0.00      0.00         1\n",
      "                  cold       0.00      0.00      0.00         0\n",
      "         other_weather       0.00      0.00      0.00         2\n",
      "         direct_report       0.53      0.80      0.64        10\n",
      "\n",
      "             micro avg       0.70      0.53      0.60       109\n",
      "             macro avg       0.13      0.13      0.12       109\n",
      "          weighted avg       0.54      0.53      0.50       109\n",
      "           samples avg       0.67      0.50      0.54       109\n",
      "\n"
     ]
    }
   ],
   "source": [
    "# Split data TODO: stratified might be better\n",
    "# Use sample while testing code\n",
    "df_sample = df[:100]\n",
    "class_names = df_sample.drop('message', axis=1).columns.values\n",
    "X = df_sample.message.values\n",
    "y = df_sample.drop('message', axis=1).values\n",
    "X_train, X_test, y_train, y_test = train_test_split(X, y)\n",
    "\n",
    "# train classifier\n",
    "pipeline.fit(X_train, y_train)\n",
    "\n",
    "# predict on test data\n",
    "y_pred = pipeline.predict(X_test)\n",
    "\n",
    "# display results TODO: FIX classification breaks on large samples \n",
    "print(classification_report(y_test, y_pred, target_names=class_names))"
   ]
  }
 ],
 "metadata": {
  "kernelspec": {
   "display_name": "udacity",
   "language": "python",
   "name": "python3"
  },
  "language_info": {
   "codemirror_mode": {
    "name": "ipython",
    "version": 3
   },
   "file_extension": ".py",
   "mimetype": "text/x-python",
   "name": "python",
   "nbconvert_exporter": "python",
   "pygments_lexer": "ipython3",
   "version": "3.12.1"
  }
 },
 "nbformat": 4,
 "nbformat_minor": 2
}
